{
 "cells": [
  {
   "cell_type": "markdown",
   "id": "9b579c15-882c-4e12-b9a4-3dfeed00e97b",
   "metadata": {},
   "source": [
    "# Parte 1 - Numpy"
   ]
  },
  {
   "cell_type": "code",
   "execution_count": 12,
   "id": "20f60014-35b9-4dd0-b936-bc689aa1b5c6",
   "metadata": {},
   "outputs": [],
   "source": [
    "import numpy as np"
   ]
  },
  {
   "cell_type": "markdown",
   "id": "c61d3b86-4d59-48f1-923e-076544f98338",
   "metadata": {},
   "source": [
    "### 1) ¿Cúal es el tamaño de bytes de un array de 1000 elementos de tipo booleano?"
   ]
  },
  {
   "cell_type": "code",
   "execution_count": 15,
   "id": "08de3bd4-e4d7-490e-990c-bbd9bb106bb7",
   "metadata": {},
   "outputs": [
    {
     "name": "stdout",
     "output_type": "stream",
     "text": [
      "El tamaño en bytes de un array de 1000 booleanos es: 1000\n"
     ]
    }
   ],
   "source": [
    "tamano_booleano = np.dtype(np.bool_).itemsize # Obtiene el tamaño en bytes de un elemento\n",
    "num_elementos = 1000 # Definimos el número del elementos booleanos en el array\n",
    "tamano_total_bytes = tamano_booleano * num_elementos # Calculamos el tamaño en bytes\n",
    "print(f\"El tamaño en bytes de un array de 1000 booleanos es: {tamano_total_bytes}\") # Impresión del tamaño de bytes"
   ]
  },
  {
   "cell_type": "markdown",
   "id": "cfbca343-4b0e-470e-9e04-33cc71478672",
   "metadata": {},
   "source": [
    "### 2) Cree un array cuyos elementos sean los enteros pares en [1,100] y en orden decreciente. Muestre los 10 últimos por pantalla."
   ]
  },
  {
   "cell_type": "code",
   "execution_count": 18,
   "id": "feb9abd7-00cf-4f3e-8ac0-f1be8ce10835",
   "metadata": {},
   "outputs": [
    {
     "name": "stdout",
     "output_type": "stream",
     "text": [
      "Los 10 últimos elementos del array de pares en orden decreciente:\n",
      "[20 18 16 14 12 10  8  6  4  2]\n"
     ]
    }
   ],
   "source": [
    "pares = np.arange(2, 101, 2) # Generamos los pares desde 2 hasta 100 \n",
    "pares_descendente = pares[::-1] # Invertimos el array para tenerlo en orden decreciente\n",
    "\n",
    "# Imprimimos los 10 últimos elementos\n",
    "print(\"Los 10 últimos elementos del array de pares en orden decreciente:\")\n",
    "print(pares_descendente[-10:]) "
   ]
  },
  {
   "cell_type": "markdown",
   "id": "69b66a7f-68e5-49ce-9ee7-242cf74e7dfd",
   "metadata": {},
   "source": [
    "### 3) Dado el array \n",
    "###     2 4 5 6\n",
    "###     0 3 7 4\n",
    "###     8 8 5 2\n",
    "###     1 5 6 1\n",
    "### Seleccione con uns instrucción el subarray de elementos: 0 3 7 4. Después, seleccione el subarray de elementos 2 5, 85\n"
   ]
  },
  {
   "cell_type": "code",
   "execution_count": 21,
   "id": "1562f7fa-1fe4-402e-b55a-024dbce3bf62",
   "metadata": {},
   "outputs": [
    {
     "name": "stdout",
     "output_type": "stream",
     "text": [
      "Subarray 1 (fila 1): [0 3 7 4]\n",
      "Subarray 2 (elementos (0,2) y (2,2)): [5 5]\n"
     ]
    }
   ],
   "source": [
    "# Creación del array original\n",
    "array_original = np.array([[2, 4, 5, 6],\n",
    "                           [0, 3, 7, 4],\n",
    "                           [8, 8, 5, 2],\n",
    "                           [1, 5, 6, 1]])\n",
    " \n",
    "# Selección de la fila 1\n",
    "subarray1 = array_original[1, :]\n",
    "\n",
    "# Impresión de la fila 1\n",
    "print(\"Subarray 1 (fila 1):\", subarray1)\n",
    "\n",
    "# Seleccionamos el subarray de elementos\n",
    "# 2 5\n",
    "# 8 5\n",
    "subarray2 = array_original[[0, 2], [2, 2]]\n",
    "\n",
    "# Impresión del subarray\n",
    "print(\"Subarray 2 (elementos (0,2) y (2,2)):\", subarray2)"
   ]
  },
  {
   "cell_type": "markdown",
   "id": "001151c9-ab05-41bf-ba62-d7bcf2af8ed6",
   "metadata": {},
   "source": [
    "### 4) Dados los arrays a = [1, 4, 2, 7] y b = [1, 3, 2, 9], obtenga la media aritmética de la diferencia (a-b)."
   ]
  },
  {
   "cell_type": "code",
   "execution_count": 24,
   "id": "fa402bbd-1045-41f7-93e6-1c2240539b6f",
   "metadata": {},
   "outputs": [
    {
     "name": "stdout",
     "output_type": "stream",
     "text": [
      "La media aritmética de la diferencia (a-b) es: -0.25\n"
     ]
    }
   ],
   "source": [
    "#Definición de los array a y b\n",
    "a = np.array([1, 4, 2, 7])\n",
    "b = np.array([1, 3, 2, 9])\n",
    "\n",
    "# Operación para obtener la diferencia de a - b\n",
    "diferencia = a - b\n",
    "\n",
    "# Calculo de la media aritmética de (a-b)\n",
    "media_diferencia = np.mean(diferencia)\n",
    "\n",
    "# Impresión del resultado\n",
    "print(\"La media aritmética de la diferencia (a-b) es:\", media_diferencia)"
   ]
  },
  {
   "cell_type": "markdown",
   "id": "215d124b-4a65-49aa-989e-4f2acc9911b1",
   "metadata": {},
   "source": [
    "### 5)  valores de coordenadas (x, y) en las columnas del array"
   ]
  },
  {
   "cell_type": "code",
   "execution_count": 27,
   "id": "5387d75d-23a7-4c5d-954f-1b5a637e5c5e",
   "metadata": {},
   "outputs": [
    {
     "name": "stdout",
     "output_type": "stream",
     "text": [
      "Las dimensiones del nuevo array de coordenadas son: (4, 2)\n"
     ]
    }
   ],
   "source": [
    "# Definición del arrray inicial\n",
    "coordenadas = np.array([[1.33, 4.5],\n",
    "                       [30.0, 10.7],\n",
    "                       [70.2, 0.5]])\n",
    "\n",
    "# Agregue a este array las coordenadas (37.1, -3.6).\n",
    "nueva_coordenada = np.array([37.1, -3.6])\n",
    "\n",
    "# Apila verticalmente la nueva coordenada\n",
    "coordenadas = np.vstack([coordenadas, nueva_coordenada])\n",
    "\n",
    "# Muestre en pantalla las dimensiones del nuevo array.\n",
    "print(\"Las dimensiones del nuevo array de coordenadas son:\", coordenadas.shape)"
   ]
  },
  {
   "cell_type": "markdown",
   "id": "b4716ef0-9ff9-4e2a-b1a2-80c135183086",
   "metadata": {},
   "source": [
    "### 6) Copie el array del ejercicio anterior. Traspóngalo (.Agregue ahora dos nuevos pares de coordenadas: (10.8, 3.0) y (35.8, 12.0)."
   ]
  },
  {
   "cell_type": "code",
   "execution_count": 32,
   "id": "9b3fe254-3c2c-4fb4-ab67-a44eeb57b751",
   "metadata": {},
   "outputs": [
    {
     "name": "stdout",
     "output_type": "stream",
     "text": [
      "Array de coordenadas transpuesto con nuevas coordenadas:\n",
      "[[ 1.33 30.   70.2  37.1  10.8  35.8 ]\n",
      " [ 4.5  10.7   0.5  -3.6   3.   12.  ]]\n"
     ]
    }
   ],
   "source": [
    "coordenadas_transpuesta = coordenadas.copy().T  # Crea una copia y luego la transpone\n",
    "\n",
    "# Agregue ahora dos nuevos pares de coordenadas: (10.8, 3.0) y (35.8, 12.0).\n",
    "nuevas_coordenadas = np.array([[10.8, 3.0],\n",
    "                             [35.8, 12.0]]).T  # También la transponemos para que coincidan las dimensiones\n",
    "\n",
    "coordenadas_transpuesta = np.hstack([coordenadas_transpuesta, nuevas_coordenadas]) # Apila horizontalmente las nuevas coordenadas\n",
    "\n",
    "print(\"Array de coordenadas transpuesto con nuevas coordenadas:\")\n",
    "print(coordenadas_transpuesta)"
   ]
  },
  {
   "cell_type": "code",
   "execution_count": 38,
   "id": "c7e938e9-0b1e-4f27-b90c-c061f03f47a9",
   "metadata": {},
   "outputs": [
    {
     "name": "stdout",
     "output_type": "stream",
     "text": [
      "Array de coordenadas transpuesto con nuevas coordenadas:\n",
      "[[ 1.33 30.   70.2  37.1  10.8  35.8 ]\n",
      " [ 4.5  10.7   0.5  -3.6   3.   12.  ]]\n"
     ]
    }
   ],
   "source": [
    "# Se definen la transpuesta de las coordenadas\n",
    "coordenadas_transpuesta = coordenadas.copy().T\n",
    "\n",
    "# Agregue ahora dos nuevos pares de coordenadas: (10.8, 3.0) y (35.8, 12.0), se transponen para que coincidan las dimensiones.\n",
    "nuevas_coordenadas = np.array([[10.8, 3.0],\n",
    "                             [35.8, 12.0]]).T\n",
    "\n",
    "# Aplicamos horizontalmente las nuevas coordenadas\n",
    "coordenadas_transpuesta = np.hstack([coordenadas_transpuesta, nuevas_coordenadas])\n",
    "\n",
    "# Imprime las nuevas coordenadas transpuestas\n",
    "print(\"Array de coordenadas transpuesto con nuevas coordenadas:\")\n",
    "print(coordenadas_transpuesta)"
   ]
  },
  {
   "cell_type": "markdown",
   "id": "a3ea3ec4-2c4c-4a28-9640-6b94a75b3daf",
   "metadata": {},
   "source": [
    "# Parte 2 - Exploración y Minería de Datos"
   ]
  },
  {
   "cell_type": "code",
   "execution_count": 44,
   "id": "5d2aa7f9-9e69-4d8b-9b36-ca780814f2a6",
   "metadata": {},
   "outputs": [],
   "source": [
    "# Importamos las librerias\n",
    "import pandas as pd\n",
    "import matplotlib.pyplot as plt\n"
   ]
  },
  {
   "cell_type": "code",
   "execution_count": 66,
   "id": "cadf7cbd-3d21-4117-b9d9-75992d9181e4",
   "metadata": {},
   "outputs": [
    {
     "name": "stdout",
     "output_type": "stream",
     "text": [
      "Archivo cargado con éxito ...\n",
      "   FID  OBJECTID     Texto  Poblacion  CodMun Municipio  CodProvin  \\\n",
      "0    0         1   Agüimes    29431.0   35002   Agüimes         35   \n",
      "1    1         2   Antigua    10458.0   35003   Antigua         35   \n",
      "2    2         3  Arrecife    58156.0   35004  Arrecife         35   \n",
      "3    3         4    Arucas    36745.0   35006    Arucas         35   \n",
      "4    4         5    Gáldar    24473.0   35009    Gáldar         35   \n",
      "\n",
      "    Provincia          X          Y  \n",
      "0  Las Palmas -15.446012  27.900542  \n",
      "1  Las Palmas -14.013301  28.418966  \n",
      "2  Las Palmas -13.551451  28.960649  \n",
      "3  Las Palmas -15.521512  28.117496  \n",
      "4  Las Palmas -15.654111  28.143873  \n"
     ]
    }
   ],
   "source": [
    "# Carga del dataset\n",
    "try:\n",
    "    df = pd.read_csv('NucleosPoblacion.csv')\n",
    "    print('Archivo cargado con éxito ...')\n",
    "    print(df.head())\n",
    "except FileNotFoundError:\n",
    "    print(\"Error: El archivo nucleospoblacion.csv no se encuentra.\")\n",
    "    exit()"
   ]
  },
  {
   "cell_type": "markdown",
   "id": "792f94c7-c949-4459-9b46-16a5e621638b",
   "metadata": {},
   "source": [
    "### 1) ¿Cuántos municipios tienen más de 100,000 habitantes?"
   ]
  },
  {
   "cell_type": "code",
   "execution_count": 74,
   "id": "e2adff26-cad1-4173-ab3a-345ec30ddb77",
   "metadata": {},
   "outputs": [
    {
     "name": "stdout",
     "output_type": "stream",
     "text": [
      "Número de municipios con más de 100,000 habitantes: 62\n"
     ]
    }
   ],
   "source": [
    "# Filtramos los municipios cuando la pobración sea mayor a 100k\n",
    "municipios_mas100k = df [df['Poblacion'] > 100000]\n",
    "\n",
    "# Contamos la cantidad de municipios con población mayor a 100k\n",
    "cantidad_municipios = len(municipios_mas100k)\n",
    "\n",
    "# Imprimimos el resultado en pantalla\n",
    "print(f'Número de municipios con más de 100,000 habitantes: {cantidad_municipios}')"
   ]
  },
  {
   "cell_type": "markdown",
   "id": "5b11c604-d38f-47fc-9f6b-660e74673235",
   "metadata": {},
   "source": [
    "### 2) Realice una gráfica de barras sobre la población de cada ciudad, ordénela de menor a mayor y responda:"
   ]
  },
  {
   "cell_type": "code",
   "execution_count": 277,
   "id": "b7cd2865-e8ee-493f-8b97-69ff7567281f",
   "metadata": {},
   "outputs": [
    {
     "data": {
      "application/vnd.jupyter.widget-view+json": {
       "model_id": "b6823e1968b94f11be6921505f32d922",
       "version_major": 2,
       "version_minor": 0
      },
      "text/plain": [
       "Output(layout=Layout(height='auto', overflow='scroll horizontal', width='300%'))"
      ]
     },
     "metadata": {},
     "output_type": "display_data"
    }
   ],
   "source": [
    "# Crear la gráfica de barras\n",
    "fig, ax = plt.subplots(figsize=(100, 8))  # Ajustar el tamaño de la figura\n",
    "ax.bar(df_ordenado['Municipio'], df_ordenado['Poblacion']) # Agrupa los datos por municipio y población\n",
    "ax.set_xlabel('Municipio') # Etiqueta para el eje x\n",
    "ax.set_ylabel('Población') # Etiqueta para el eje y\n",
    "ax.set_title('Población por Municipio (Ordenado de Menor a Mayor)') # Título del gráfico\n",
    "ax.tick_params(axis='x', rotation=90)  # Rotar las etiquetas del eje x\n",
    "\n",
    "# Ajustar el diseño para evitar que las etiquetas se superpongan\n",
    "plt.tight_layout()\n",
    "\n",
    "# Crear un widget Output para contener la gráfica\n",
    "out = widgets.Output(layout=widgets.Layout(overflow='scroll horizontal', width='300%', height='auto'))\n",
    "\n",
    "# Mostrar la gráfica dentro del widget Output\n",
    "with out:\n",
    "    plt.show(fig)  # Mostrar la gráfica dentro del Output widget\n",
    "\n",
    "# Mostrar el widget Output\n",
    "display(out)"
   ]
  },
  {
   "cell_type": "markdown",
   "id": "3f4e9fcb-3289-4ff8-b5a1-7e0d8a56c2d9",
   "metadata": {},
   "source": [
    "###        a. ¿Cúal es la segunda ciudad más poblada?"
   ]
  },
  {
   "cell_type": "code",
   "execution_count": 99,
   "id": "dc3a4d66-4575-422b-8cad-2ada3970b310",
   "metadata": {},
   "outputs": [
    {
     "name": "stdout",
     "output_type": "stream",
     "text": [
      "La segunda ciudad más poblada es: Barcelona con 1619337.0 habitantes.\n"
     ]
    }
   ],
   "source": [
    " # Seleccionamos el penúltimo registro del dataframe ordenado\n",
    "segunda_ciudad_mas_poblada = df_ordenado.iloc[-2]\n",
    "\n",
    "# Imprimimos el resultado del penúltimo registro del dataframe ordenado\n",
    "print(f\"La segunda ciudad más poblada es: {segunda_ciudad_mas_poblada['Municipio']} con {segunda_ciudad_mas_poblada['Poblacion']} habitantes.\")"
   ]
  },
  {
   "cell_type": "markdown",
   "id": "af70e1c5-5125-4c96-b11d-74bf14853690",
   "metadata": {},
   "source": [
    "###        b. ¿Qué posición ocupa Granada en el ranking de las ciudades más pobladas?"
   ]
  },
  {
   "cell_type": "code",
   "execution_count": 103,
   "id": "f5f1a834-7327-42e3-a0b0-575f246a0fe7",
   "metadata": {},
   "outputs": [
    {
     "name": "stdout",
     "output_type": "stream",
     "text": [
      "Granada ocupa la posición 835 en el ranking de ciudades más pobladas.\n"
     ]
    }
   ],
   "source": [
    "# Agregamos una columna de ranking al dataframe ordenado para encontrar la posición de granada\n",
    "df_ordenado['Ranking'] = range(1, len(df_ordenado) + 1)\n",
    "\n",
    "# Buscamos el municipio de granada en el dataframe ordenado, esto crea un dataframe llamado granada\n",
    "granada = df_ordenado[df_ordenado['Municipio'] == 'Granada']\n",
    "\n",
    "# Verificamos si se encontró Granada en el Dataframe\n",
    "if not granada.empty:\n",
    "    # Si se encontró, obtenemos la posición el el ranking\n",
    "    posicion_granada = granada['Ranking'].values[0]\n",
    "    # Imprimimos el resultado de la posición\n",
    "    print(f\"Granada ocupa la posición {posicion_granada} en el ranking de ciudades más pobladas.\")\n",
    "else:\n",
    "    # Si no se encontró Granada, imprime un mensaje indicando que no se encontró en el dataset\n",
    "    print(\"No se encontró Granada en el dataset.\")"
   ]
  },
  {
   "cell_type": "markdown",
   "id": "3531ef83-0077-4ec1-99bd-98d1579e6944",
   "metadata": {},
   "source": [
    "### 3) ¿Cuántos municipios de La Rioja tienen más de 20,000 habitantes?"
   ]
  },
  {
   "cell_type": "code",
   "execution_count": 123,
   "id": "9627d7e4-8902-4cf6-96e5-0b16c71c53f5",
   "metadata": {},
   "outputs": [
    {
     "name": "stdout",
     "output_type": "stream",
     "text": [
      "Número de municipios en La Rioja con más de 20,000 habitantes: 2\n"
     ]
    }
   ],
   "source": [
    "# Filtrar el DataFrame para obtener filas donde la provincia es 'La Rioja' y la población es mayor a 20000.\n",
    "rioja_mas20k = df[(df['Provincia'] == 'La Rioja') & (df['Poblacion'] > 20000)]\n",
    "\n",
    "# Se cuenata cuantos municipios son mayores a 20k\n",
    "cantidad_rioja_mas20K = len (rioja_mas20k)\n",
    "\n",
    "# Se imprime en pantalla el resultado\n",
    "print(f\"Número de municipios en La Rioja con más de 20,000 habitantes: {cantidad_rioja_mas20K}\")\n"
   ]
  },
  {
   "cell_type": "markdown",
   "id": "2a08a9bc-bd68-4627-82db-5a4770a012e7",
   "metadata": {},
   "source": [
    "### 4) ¿Cuál es el municiío situado más al Norte?"
   ]
  },
  {
   "cell_type": "code",
   "execution_count": 145,
   "id": "c5bbba22-0061-4f20-9e4f-1a9f4472250c",
   "metadata": {},
   "outputs": [
    {
     "name": "stdout",
     "output_type": "stream",
     "text": [
      "Municipio situado más al Norte: \n",
      "\tMunicipio: Viveiro\n",
      "\tPorvincia: Lugo\n",
      "\tPoblación: 16211.0\n"
     ]
    }
   ],
   "source": [
    "# Usamos el valor de la coordenada de la latitud \"Y\"\n",
    "municipios_mas_norte = df.loc[df['Y'].idxmax()] # Encuentra la fila con el valor máximo de 'Y'\n",
    "\n",
    "# Impresión en pantalla del resultado\n",
    "print(\"Municipio situado más al Norte: \")\n",
    "print(f\"\\tMunicipio: {municipios_mas_norte ['Municipio']}\\n\\tPorvincia: {municipios_mas_norte['Provincia']}\\n\\tPoblación: {municipios_mas_norte['Poblacion']}\")"
   ]
  },
  {
   "cell_type": "markdown",
   "id": "c57d9257-226d-49bb-9e78-2580f01c3c36",
   "metadata": {},
   "source": [
    "### 5) Obtenga la media, mediana, desviación estándar, valor máximo y valor mínimo de la población de los municipios de la provincia de Granada."
   ]
  },
  {
   "cell_type": "code",
   "execution_count": 171,
   "id": "9e2437d2-2afc-4737-b5b7-056968743c48",
   "metadata": {},
   "outputs": [
    {
     "name": "stdout",
     "output_type": "stream",
     "text": [
      "Estadísticas de la población en la provincia de Granada: \n",
      "\tMedia: 30217.85\n",
      "\tMediana: 17526.0\n",
      "\tDesviación Estándar: 50355.49171459277\n",
      "\tValor Máximo: 239154.0\n",
      "\tValor Mínimo: 10386.0\n"
     ]
    }
   ],
   "source": [
    "import pandas as pd\n",
    "import numpy as np\n",
    "\n",
    "# Asegúrate de que 'df' es tu DataFrame y está cargado correctamente.\n",
    "\n",
    "# Se obtienen los valores de población de la provincia de Granada (como una Serie de pandas)\n",
    "poblacion_granada = df.loc[df['Provincia'] == 'Granada', 'Poblacion']\n",
    "\n",
    "# Se imprimen las estadísticas de la población en la provincia de Granada\n",
    "print('Estadísticas de la población en la provincia de Granada: ')\n",
    "print(f\"\\tMedia: {poblacion_granada.mean()}\") #Impresión de la media de la población\n",
    "print(f\"\\tMediana: {poblacion_granada.median()}\") # Impresión de la mediana de la población\n",
    "print(f\"\\tDesviación Estándar: {poblacion_granada.std()}\") # Impresión de la Desviación estándar de la población\n",
    "print(f\"\\tValor Máximo: {poblacion_granada.max()}\") # Imprime el valor máximo de la población\n",
    "print(f\"\\tValor Mínimo: {poblacion_granada.min()}\") # Imprime el valor mínimo de la población"
   ]
  },
  {
   "cell_type": "markdown",
   "id": "dfa9896c-f24b-482c-9c2e-e264888e37c0",
   "metadata": {},
   "source": [
    "### 6) Realice un histograma con la población de los Municipios para cada una de las provincias."
   ]
  },
  {
   "cell_type": "code",
   "execution_count": 225,
   "id": "685163f8-b4e8-4ee0-8a42-02677782f305",
   "metadata": {},
   "outputs": [
    {
     "data": {
      "text/plain": [
       "<matplotlib.table.Table at 0x1433ffd5fd0>"
      ]
     },
     "execution_count": 225,
     "metadata": {},
     "output_type": "execute_result"
    },
    {
     "data": {
      "image/png": "[encoded data removed]",
      "text/plain": [
       "<Figure size 1200x1200 with 1 Axes>"
      ]
     },
     "metadata": {},
     "output_type": "display_data"
    }
   ],
   "source": [
    "\n",
    "from matplotlib.table import Table\n",
    "\n",
    "# Configurar el área de trabajo para la figura del histograma y la tabla.\n",
    "plt.figure(figsize=(12, 12))  # Crea una figura de 12x12 pulgadas.\n",
    "\n",
    "# Obtener el objeto Axes actual para agregar elementos gráficos.\n",
    "ax = plt.gca()\n",
    "\n",
    "# Crear histogramas de la población para cada provincia.\n",
    "# Agrupa los datos por 'Provincia' y grafica el histograma de 'Poblacion' con transparencia (alpha=0.7).\n",
    "hist_values = df.groupby('Provincia')['Poblacion'].hist(alpha=0.7)\n",
    "\n",
    "# Etiquetas y título para el histograma.\n",
    "plt.xlabel('Población')  # Etiqueta del eje x.\n",
    "plt.ylabel('Frecuencia')  # Etiqueta del eje y.\n",
    "plt.title('Histograma de Población por Provincia')  # Título del gráfico.\n",
    "\n",
    "# --- Creación de la tabla ---\n",
    "\n",
    "# Obtener la lista única de provincias.\n",
    "provincias = df['Provincia'].unique()\n",
    "\n",
    "# Calcular el número de provincias.\n",
    "num_provincias = len(provincias)\n",
    "\n",
    "# Definir el número de columnas para la tabla.\n",
    "num_columnas = 3  # Ajusta este número según la disposición deseada.\n",
    "\n",
    "# Calcular el número de filas necesarias para la tabla.\n",
    "num_filas = (num_provincias + num_columnas - 1) // num_columnas\n",
    "\n",
    "# Preparar los datos para la tabla: lista de tuplas (provincia, color).\n",
    "# Se utiliza el ciclo de colores predeterminado de matplotlib para asignar un color a cada provincia.\n",
    "table_data = list(zip(provincias, plt.rcParams['axes.prop_cycle'].by_key()['color']))\n",
    "\n",
    "# Crear el objeto Table y definir su posición y tamaño en la figura.\n",
    "# bbox=[x0, y0, width, height] define la ubicación y el tamaño de la tabla en coordenadas normalizadas.\n",
    "# [1.05, 0, 0.6, 1] coloca la tabla a la derecha del histograma.\n",
    "table = Table(ax, bbox=[1.05, 0, 0.6, 1])  # Aumenta el ancho de la tabla para que quepa la leyenda.\n",
    "\n",
    "# --- Agregar datos a la tabla ---\n",
    "\n",
    "# Iterar sobre las filas y columnas para agregar celdas a la tabla.\n",
    "for i in range(num_filas):\n",
    "    for j in range(num_columnas):\n",
    "        # Calcular el índice de la provincia en la lista table_data.\n",
    "        index = i * num_columnas + j\n",
    "\n",
    "        # Verificar si el índice está dentro de los límites de las provincias.\n",
    "        if index < num_provincias and index < len(table_data):\n",
    "            # Obtener el nombre de la provincia y su color.\n",
    "            provincia, color = table_data[index]\n",
    "\n",
    "            # Agregar una celda a la tabla con el nombre de la provincia y el color de fondo.\n",
    "            table.add_cell(i, j, width=0.2, height=0.03, text=provincia, loc='left', facecolor=color)  # Reducir el height de las celdas\n",
    "\n",
    "# --- Ajustar propiedades de la tabla ---\n",
    "\n",
    "# Desactivar el ajuste automático del tamaño de la fuente.\n",
    "table.auto_set_font_size(False)\n",
    "\n",
    "# Establecer el tamaño de la fuente para todas las celdas de la tabla.\n",
    "table.set_fontsize(7)  # Reducir el tamaño de la fuente para que quepa más texto.\n",
    "\n",
    "# Agregar la tabla al Axes.\n",
    "ax.add_table(table)\n"
   ]
  },
  {
   "cell_type": "markdown",
   "id": "f1c09cbd-7376-445b-85b1-468b266a21e7",
   "metadata": {},
   "source": [
    "###  7) Seleccione al azar cincuenta municipios diferentes de entre los diponibles en el archivo. Asegúrese de que no se repitan. ¿Luego calcule el promedio de la población y la desviación estándar de esto 50 municipios?"
   ]
  },
  {
   "cell_type": "code",
   "execution_count": 229,
   "id": "a08de0af-e417-4916-9a69-cd30f0124b7d",
   "metadata": {},
   "outputs": [
    {
     "name": "stdout",
     "output_type": "stream",
     "text": [
      "Promedio de la población de 50 municipios aleatorios: 36000.82\n",
      "Desviación estándar de la población de 50 municipios aleatorios: 44560.10668917447\n"
     ]
    }
   ],
   "source": [
    "# Selección aleatoria de 50 municipios\n",
    "municipios_aleatorios = df.sample(n=50, random_state=42)\n",
    "\n",
    "# Se calcula la media de la población\n",
    "promedio_poblacion_aleatoria = municipios_aleatorios['Poblacion'].mean()\n",
    "\n",
    "# Se calcula la desviación estandar de la población\n",
    "desviacion_estandar_poblacion_aleatoria = municipios_aleatorios['Poblacion'].std()\n",
    "\n",
    "# Se imprimen los resultados\n",
    "print(f\"Promedio de la población de 50 municipios aleatorios: {promedio_poblacion_aleatoria}\")\n",
    "print(f\"Desviación estándar de la población de 50 municipios aleatorios: {desviacion_estandar_poblacion_aleatoria}\")"
   ]
  },
  {
   "cell_type": "markdown",
   "id": "a3443f0f-bca0-44b9-a015-40d3d969c81d",
   "metadata": {},
   "source": [
    "### 8) Dígame los nombres de los Municipios más cercano y más lejano a Madrid. Para ello debe calcular la distancia en todos ellos y Madrid. No considere a Madrid en el análisis ya que la distancia sería cero."
   ]
  },
  {
   "cell_type": "code",
   "execution_count": 233,
   "id": "7003c839-8229-4d60-a28d-f4e76a4e435e",
   "metadata": {},
   "outputs": [
    {
     "name": "stdout",
     "output_type": "stream",
     "text": [
      "Municipio más cercano a Madrid: Pozuelo de Alarcón (Distancia: 0.08094168222514751)\n",
      "Municipio más lejano a Madrid: Los Llanos de Aridane (Distancia: 18.444359965700627)\n"
     ]
    }
   ],
   "source": [
    "#coordenadas de Madrid (aproximadas)\n",
    "madrid_x = -3.7038\n",
    "madrid_y = 40.4168\n",
    "\n",
    "# Calcular la distancia a Madrid usando la fórmula de distancia euclidiana\n",
    "df['DISTANCIA_MADRID'] = np.sqrt((df['X'] - madrid_x)**2 + (df['Y'] - madrid_y)**2)\n",
    "\n",
    "# Excluir Madrid del análisis (si estuviera en el dataset)\n",
    "df_sin_madrid = df[df['Municipio'] != 'Madrid']\n",
    "\n",
    "# Encontrar el municipio más cercano y el más lejano\n",
    "municipio_mas_cercano = df_sin_madrid.loc[df_sin_madrid['DISTANCIA_MADRID'].idxmin()]\n",
    "municipio_mas_lejano = df_sin_madrid.loc[df_sin_madrid['DISTANCIA_MADRID'].idxmax()]\n",
    "\n",
    "# Impresión de resultado\n",
    "print(f\"Municipio más cercano a Madrid: {municipio_mas_cercano['Municipio']} (Distancia: {municipio_mas_cercano['DISTANCIA_MADRID']})\")\n",
    "print(f\"Municipio más lejano a Madrid: {municipio_mas_lejano['Municipio']} (Distancia: {municipio_mas_lejano['DISTANCIA_MADRID']})\")"
   ]
  }
 ],
 "metadata": {
  "kernelspec": {
   "display_name": "Python 3 (ipykernel)",
   "language": "python",
   "name": "python3"
  },
  "language_info": {
   "codemirror_mode": {
    "name": "ipython",
    "version": 3
   },
   "file_extension": ".py",
   "mimetype": "text/x-python",
   "name": "python",
   "nbconvert_exporter": "python",
   "pygments_lexer": "ipython3",
   "version": "3.9.21"
  }
 },
 "nbformat": 4,
 "nbformat_minor": 5
}
